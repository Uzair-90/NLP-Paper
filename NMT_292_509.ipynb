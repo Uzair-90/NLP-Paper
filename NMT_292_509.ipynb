{
 "cells": [
  {
   "cell_type": "code",
   "execution_count": 1,
   "metadata": {},
   "outputs": [],
   "source": [
    "%%capture\n",
    "# install Tensorflow\n",
    "!pip install tensorflow \n",
    "\n",
    "# Loading spacy's French and English languages \n",
    "!pip install -U spacy\n",
    "!python -m spacy download fr_core_news_sm\n",
    "!python -m spacy download en_core_web_sm"
   ]
  },
  {
   "cell_type": "code",
   "execution_count": 1,
   "metadata": {},
   "outputs": [
    {
     "name": "stderr",
     "output_type": "stream",
     "text": [
      "c:\\Users\\Farae\\AppData\\Local\\Programs\\Python\\Python310\\lib\\site-packages\\scipy\\__init__.py:146: UserWarning: A NumPy version >=1.17.3 and <1.25.0 is required for this version of SciPy (detected version 1.26.4\n",
      "  warnings.warn(f\"A NumPy version >={np_minversion} and <{np_maxversion}\"\n"
     ]
    },
    {
     "data": {
      "text/plain": [
       "'2.11.1'"
      ]
     },
     "execution_count": 1,
     "metadata": {},
     "output_type": "execute_result"
    }
   ],
   "source": [
    "# Import required packages\n",
    "import numpy as np\n",
    "import pandas as pd\n",
    "import fr_core_news_sm\n",
    "import en_core_web_sm\n",
    "import tensorflow as tf\n",
    "tf.__version__\n"
   ]
  },
  {
   "cell_type": "code",
   "execution_count": 2,
   "metadata": {},
   "outputs": [
    {
     "data": {
      "text/html": [
       "<div>\n",
       "<style scoped>\n",
       "    .dataframe tbody tr th:only-of-type {\n",
       "        vertical-align: middle;\n",
       "    }\n",
       "\n",
       "    .dataframe tbody tr th {\n",
       "        vertical-align: top;\n",
       "    }\n",
       "\n",
       "    .dataframe thead th {\n",
       "        text-align: right;\n",
       "    }\n",
       "</style>\n",
       "<table border=\"1\" class=\"dataframe\">\n",
       "  <thead>\n",
       "    <tr style=\"text-align: right;\">\n",
       "      <th></th>\n",
       "      <th>0</th>\n",
       "      <th>1</th>\n",
       "    </tr>\n",
       "  </thead>\n",
       "  <tbody>\n",
       "    <tr>\n",
       "      <th>0</th>\n",
       "      <td>Go.</td>\n",
       "      <td>Va !</td>\n",
       "    </tr>\n",
       "    <tr>\n",
       "      <th>1</th>\n",
       "      <td>Hi.</td>\n",
       "      <td>Salut !</td>\n",
       "    </tr>\n",
       "    <tr>\n",
       "      <th>2</th>\n",
       "      <td>Run!</td>\n",
       "      <td>Cours !</td>\n",
       "    </tr>\n",
       "    <tr>\n",
       "      <th>3</th>\n",
       "      <td>Run!</td>\n",
       "      <td>Courez !</td>\n",
       "    </tr>\n",
       "    <tr>\n",
       "      <th>4</th>\n",
       "      <td>Wow!</td>\n",
       "      <td>Ça alors !</td>\n",
       "    </tr>\n",
       "  </tbody>\n",
       "</table>\n",
       "</div>"
      ],
      "text/plain": [
       "      0           1\n",
       "0   Go.        Va !\n",
       "1   Hi.     Salut !\n",
       "2  Run!     Cours !\n",
       "3  Run!    Courez !\n",
       "4  Wow!  Ça alors !"
      ]
     },
     "execution_count": 2,
     "metadata": {},
     "output_type": "execute_result"
    }
   ],
   "source": [
    "# Loading data\n",
    "db = pd.read_csv(\"data.txt\", delimiter=\"\\t\", header=None)\n",
    "db.head()"
   ]
  },
  {
   "cell_type": "code",
   "execution_count": 3,
   "metadata": {},
   "outputs": [
    {
     "data": {
      "text/plain": [
       "(160538, 2)"
      ]
     },
     "execution_count": 3,
     "metadata": {},
     "output_type": "execute_result"
    }
   ],
   "source": [
    "db.shape"
   ]
  },
  {
   "cell_type": "code",
   "execution_count": 7,
   "metadata": {},
   "outputs": [],
   "source": [
    "first_5000 = db.head(1000)\n",
    "last_5000 = db.tail(1000)\n",
    "doc = pd.concat([first_5000, last_5000])"
   ]
  },
  {
   "cell_type": "code",
   "execution_count": 8,
   "metadata": {},
   "outputs": [
    {
     "data": {
      "text/plain": [
       "(2000, 2)"
      ]
     },
     "execution_count": 8,
     "metadata": {},
     "output_type": "execute_result"
    }
   ],
   "source": [
    "doc.shape"
   ]
  },
  {
   "cell_type": "code",
   "execution_count": 9,
   "metadata": {},
   "outputs": [],
   "source": [
    "# Loading of the entire corpus of French and English sentences\n",
    "fr_corpus = \" \".join(doc.iloc[:, 1].to_list())\n",
    "en_corpus = \" \".join(doc.iloc[:, 0].to_list())"
   ]
  },
  {
   "cell_type": "code",
   "execution_count": 10,
   "metadata": {},
   "outputs": [],
   "source": [
    "# Loading both corpora into spacy \n",
    "nlp_fr = fr_core_news_sm.load()\n",
    "nlp_fr.max_length = len(fr_corpus)\n",
    "\n",
    "nlp_en = en_core_web_sm.load()\n",
    "nlp_en.max_length = len(en_corpus)\n",
    "\n",
    "fr_doc = nlp_fr(fr_corpus)\n",
    "en_doc = nlp_en(en_corpus)"
   ]
  },
  {
   "cell_type": "code",
   "execution_count": 11,
   "metadata": {},
   "outputs": [],
   "source": [
    "# Tokenization of each sentence via spacy \n",
    "doc[\"fr_tokens\"] = doc.iloc[:, 1].apply(nlp_fr.tokenizer)\n",
    "doc[\"en_tokens\"] = doc.iloc[:, 0].apply(nlp_en.tokenizer)"
   ]
  },
  {
   "cell_type": "code",
   "execution_count": 12,
   "metadata": {},
   "outputs": [
    {
     "name": "stdout",
     "output_type": "stream",
     "text": [
      "3161\n"
     ]
    }
   ],
   "source": [
    "en_tokens = [token.text for token in en_doc]\n",
    "en_vocabulary_set= set(en_tokens)\n",
    "en_vocab_size = len(en_vocabulary_set)\n",
    "print(en_vocab_size)"
   ]
  },
  {
   "cell_type": "code",
   "execution_count": 13,
   "metadata": {},
   "outputs": [
    {
     "name": "stdout",
     "output_type": "stream",
     "text": [
      "4127\n"
     ]
    }
   ],
   "source": [
    "fr_tokens = [token.text for token in fr_doc]\n",
    "fr_vocabulary_set= set(fr_tokens)\n",
    "fr_vocab_size = len(fr_vocabulary_set)\n",
    "print(fr_vocab_size)"
   ]
  },
  {
   "cell_type": "code",
   "execution_count": 14,
   "metadata": {},
   "outputs": [],
   "source": [
    "# Creation of an id for each token\n",
    "all_en_tokens = {en_token: i + 1 for i, en_token in enumerate(en_vocabulary_set)}\n",
    "all_fr_tokens = {fr_token: i + 1 for i, fr_token in enumerate(fr_vocabulary_set)}\n",
    "# RQ: We take at i+1 to leave the value 0 for the creation of the padded_sequences"
   ]
  },
  {
   "cell_type": "code",
   "execution_count": 15,
   "metadata": {},
   "outputs": [],
   "source": [
    "# Creation of functions that will create a vector of indices for each of the token sequences\n",
    "def en_tokens_to_index(tokens):\n",
    "    return [all_en_tokens[token.text] for token in tokens]\n",
    "\n",
    "def fr_tokens_to_index(tokens):\n",
    "    return [all_fr_tokens[token.text] for token in tokens]"
   ]
  },
  {
   "cell_type": "code",
   "execution_count": 16,
   "metadata": {},
   "outputs": [],
   "source": [
    "# Transformation of tokens into indices\n",
    "doc[\"fr_indices\"] = doc[\"fr_tokens\"].apply(fr_tokens_to_index)\n",
    "doc[\"en_indices\"] = doc[\"en_tokens\"].apply(en_tokens_to_index)"
   ]
  },
  {
   "cell_type": "code",
   "execution_count": 151,
   "metadata": {},
   "outputs": [
    {
     "data": {
      "text/html": [
       "<div>\n",
       "<style scoped>\n",
       "    .dataframe tbody tr th:only-of-type {\n",
       "        vertical-align: middle;\n",
       "    }\n",
       "\n",
       "    .dataframe tbody tr th {\n",
       "        vertical-align: top;\n",
       "    }\n",
       "\n",
       "    .dataframe thead th {\n",
       "        text-align: right;\n",
       "    }\n",
       "</style>\n",
       "<table border=\"1\" class=\"dataframe\">\n",
       "  <thead>\n",
       "    <tr style=\"text-align: right;\">\n",
       "      <th></th>\n",
       "      <th>0</th>\n",
       "      <th>1</th>\n",
       "      <th>fr_tokens</th>\n",
       "      <th>en_tokens</th>\n",
       "      <th>fr_indices</th>\n",
       "      <th>en_indices</th>\n",
       "    </tr>\n",
       "  </thead>\n",
       "  <tbody>\n",
       "    <tr>\n",
       "      <th>160533</th>\n",
       "      <td>A carbon footprint is the amount of carbon dio...</td>\n",
       "      <td>Une empreinte carbone est la somme de pollutio...</td>\n",
       "      <td>(Une, empreinte, carbone, est, la, somme, de, ...</td>\n",
       "      <td>(A, carbon, footprint, is, the, amount, of, ca...</td>\n",
       "      <td>[4008, 3950, 1868, 2444, 4005, 4009, 1769, 267...</td>\n",
       "      <td>[2230, 423, 2564, 1922, 1937, 669, 1913, 423, ...</td>\n",
       "    </tr>\n",
       "    <tr>\n",
       "      <th>160534</th>\n",
       "      <td>Death is something that we're often discourage...</td>\n",
       "      <td>La mort est une chose qu'on nous décourage sou...</td>\n",
       "      <td>(La, mort, est, une, chose, qu', on, nous, déc...</td>\n",
       "      <td>(Death, is, something, that, we, 're, often, d...</td>\n",
       "      <td>[2487, 3885, 2444, 528, 1137, 3047, 59, 1031, ...</td>\n",
       "      <td>[993, 1922, 1174, 2706, 477, 1611, 121, 1787, ...</td>\n",
       "    </tr>\n",
       "    <tr>\n",
       "      <th>160535</th>\n",
       "      <td>Since there are usually multiple websites on a...</td>\n",
       "      <td>Puisqu'il y a de multiples sites web sur chaqu...</td>\n",
       "      <td>(Puisqu', il, y, a, de, multiples, sites, web,...</td>\n",
       "      <td>(Since, there, are, usually, multiple, website...</td>\n",
       "      <td>[976, 2394, 2614, 3484, 1769, 2306, 1736, 835,...</td>\n",
       "      <td>[1464, 1194, 1999, 2247, 2725, 2418, 36, 3154,...</td>\n",
       "    </tr>\n",
       "    <tr>\n",
       "      <th>160536</th>\n",
       "      <td>If someone who doesn't know your background sa...</td>\n",
       "      <td>Si quelqu'un qui ne connaît pas vos antécédent...</td>\n",
       "      <td>(Si, quelqu', un, qui, ne, connaît, pas, vos, ...</td>\n",
       "      <td>(If, someone, who, does, n't, know, your, back...</td>\n",
       "      <td>[1425, 1974, 1224, 3522, 632, 1984, 1943, 1521...</td>\n",
       "      <td>[2612, 162, 759, 2707, 924, 1994, 1805, 1189, ...</td>\n",
       "    </tr>\n",
       "    <tr>\n",
       "      <th>160537</th>\n",
       "      <td>It may be impossible to get a completely error...</td>\n",
       "      <td>Il est peut-être impossible d'obtenir un Corpu...</td>\n",
       "      <td>(Il, est, peut-être, impossible, d', obtenir, ...</td>\n",
       "      <td>(It, may, be, impossible, to, get, a, complete...</td>\n",
       "      <td>[4095, 2444, 3625, 3038, 4026, 3343, 1224, 293...</td>\n",
       "      <td>[2468, 2815, 899, 2362, 900, 2946, 2697, 2599,...</td>\n",
       "    </tr>\n",
       "  </tbody>\n",
       "</table>\n",
       "</div>"
      ],
      "text/plain": [
       "                                                        0  \\\n",
       "160533  A carbon footprint is the amount of carbon dio...   \n",
       "160534  Death is something that we're often discourage...   \n",
       "160535  Since there are usually multiple websites on a...   \n",
       "160536  If someone who doesn't know your background sa...   \n",
       "160537  It may be impossible to get a completely error...   \n",
       "\n",
       "                                                        1  \\\n",
       "160533  Une empreinte carbone est la somme de pollutio...   \n",
       "160534  La mort est une chose qu'on nous décourage sou...   \n",
       "160535  Puisqu'il y a de multiples sites web sur chaqu...   \n",
       "160536  Si quelqu'un qui ne connaît pas vos antécédent...   \n",
       "160537  Il est peut-être impossible d'obtenir un Corpu...   \n",
       "\n",
       "                                                fr_tokens  \\\n",
       "160533  (Une, empreinte, carbone, est, la, somme, de, ...   \n",
       "160534  (La, mort, est, une, chose, qu', on, nous, déc...   \n",
       "160535  (Puisqu', il, y, a, de, multiples, sites, web,...   \n",
       "160536  (Si, quelqu', un, qui, ne, connaît, pas, vos, ...   \n",
       "160537  (Il, est, peut-être, impossible, d', obtenir, ...   \n",
       "\n",
       "                                                en_tokens  \\\n",
       "160533  (A, carbon, footprint, is, the, amount, of, ca...   \n",
       "160534  (Death, is, something, that, we, 're, often, d...   \n",
       "160535  (Since, there, are, usually, multiple, website...   \n",
       "160536  (If, someone, who, does, n't, know, your, back...   \n",
       "160537  (It, may, be, impossible, to, get, a, complete...   \n",
       "\n",
       "                                               fr_indices  \\\n",
       "160533  [4008, 3950, 1868, 2444, 4005, 4009, 1769, 267...   \n",
       "160534  [2487, 3885, 2444, 528, 1137, 3047, 59, 1031, ...   \n",
       "160535  [976, 2394, 2614, 3484, 1769, 2306, 1736, 835,...   \n",
       "160536  [1425, 1974, 1224, 3522, 632, 1984, 1943, 1521...   \n",
       "160537  [4095, 2444, 3625, 3038, 4026, 3343, 1224, 293...   \n",
       "\n",
       "                                               en_indices  \n",
       "160533  [2230, 423, 2564, 1922, 1937, 669, 1913, 423, ...  \n",
       "160534  [993, 1922, 1174, 2706, 477, 1611, 121, 1787, ...  \n",
       "160535  [1464, 1194, 1999, 2247, 2725, 2418, 36, 3154,...  \n",
       "160536  [2612, 162, 759, 2707, 924, 1994, 1805, 1189, ...  \n",
       "160537  [2468, 2815, 899, 2362, 900, 2946, 2697, 2599,...  "
      ]
     },
     "execution_count": 151,
     "metadata": {},
     "output_type": "execute_result"
    }
   ],
   "source": [
    "doc.tail()"
   ]
  },
  {
   "cell_type": "code",
   "execution_count": 18,
   "metadata": {},
   "outputs": [
    {
     "name": "stdout",
     "output_type": "stream",
     "text": [
      "3161\n"
     ]
    }
   ],
   "source": [
    "# Creation of a set() that will take all the unique tokens from our text corpus\n",
    "en_tokens = [token.text for token in en_doc]\n",
    "en_vocabulary_set= set(en_tokens)\n",
    "en_vocab_size = len(en_vocabulary_set)\n",
    "print(en_vocab_size)"
   ]
  },
  {
   "cell_type": "code",
   "execution_count": 19,
   "metadata": {},
   "outputs": [
    {
     "name": "stdout",
     "output_type": "stream",
     "text": [
      "4127\n"
     ]
    }
   ],
   "source": [
    "# Same thing for French\n",
    "fr_tokens = [token.text for token in fr_doc]\n",
    "fr_vocabulary_set= set(fr_tokens)\n",
    "fr_vocab_size = len(fr_vocabulary_set)\n",
    "print(fr_vocab_size)"
   ]
  },
  {
   "cell_type": "code",
   "execution_count": 20,
   "metadata": {},
   "outputs": [],
   "source": [
    "# Creation of an id for each token\n",
    "all_en_tokens = {en_token: i + 1 for i, en_token in enumerate(en_vocabulary_set)}\n",
    "all_fr_tokens = {fr_token: i + 1 for i, fr_token in enumerate(fr_vocabulary_set)}\n",
    "# RQ: We take at i+1 to leave the value 0 for the creation of the padded_sequences"
   ]
  },
  {
   "cell_type": "code",
   "execution_count": 21,
   "metadata": {},
   "outputs": [],
   "source": [
    "# Creation of functions that will create a vector of indices for each of the token sequences\n",
    "def en_tokens_to_index(tokens):\n",
    "    return [all_en_tokens[token.text] for token in tokens]\n",
    "\n",
    "def fr_tokens_to_index(tokens):\n",
    "    return [all_fr_tokens[token.text] for token in tokens]"
   ]
  },
  {
   "cell_type": "code",
   "execution_count": 22,
   "metadata": {},
   "outputs": [],
   "source": [
    "# Transformation of tokens into indices\n",
    "doc[\"fr_indices\"] = doc[\"fr_tokens\"].apply(fr_tokens_to_index)\n",
    "doc[\"en_indices\"] = doc[\"en_tokens\"].apply(en_tokens_to_index)"
   ]
  },
  {
   "cell_type": "code",
   "execution_count": 23,
   "metadata": {},
   "outputs": [
    {
     "data": {
      "text/html": [
       "<div>\n",
       "<style scoped>\n",
       "    .dataframe tbody tr th:only-of-type {\n",
       "        vertical-align: middle;\n",
       "    }\n",
       "\n",
       "    .dataframe tbody tr th {\n",
       "        vertical-align: top;\n",
       "    }\n",
       "\n",
       "    .dataframe thead th {\n",
       "        text-align: right;\n",
       "    }\n",
       "</style>\n",
       "<table border=\"1\" class=\"dataframe\">\n",
       "  <thead>\n",
       "    <tr style=\"text-align: right;\">\n",
       "      <th></th>\n",
       "      <th>0</th>\n",
       "      <th>1</th>\n",
       "      <th>fr_tokens</th>\n",
       "      <th>en_tokens</th>\n",
       "      <th>fr_indices</th>\n",
       "      <th>en_indices</th>\n",
       "    </tr>\n",
       "  </thead>\n",
       "  <tbody>\n",
       "    <tr>\n",
       "      <th>160533</th>\n",
       "      <td>A carbon footprint is the amount of carbon dio...</td>\n",
       "      <td>Une empreinte carbone est la somme de pollutio...</td>\n",
       "      <td>(Une, empreinte, carbone, est, la, somme, de, ...</td>\n",
       "      <td>(A, carbon, footprint, is, the, amount, of, ca...</td>\n",
       "      <td>[4008, 3950, 1868, 2444, 4005, 4009, 1769, 267...</td>\n",
       "      <td>[2230, 423, 2564, 1922, 1937, 669, 1913, 423, ...</td>\n",
       "    </tr>\n",
       "    <tr>\n",
       "      <th>160534</th>\n",
       "      <td>Death is something that we're often discourage...</td>\n",
       "      <td>La mort est une chose qu'on nous décourage sou...</td>\n",
       "      <td>(La, mort, est, une, chose, qu', on, nous, déc...</td>\n",
       "      <td>(Death, is, something, that, we, 're, often, d...</td>\n",
       "      <td>[2487, 3885, 2444, 528, 1137, 3047, 59, 1031, ...</td>\n",
       "      <td>[993, 1922, 1174, 2706, 477, 1611, 121, 1787, ...</td>\n",
       "    </tr>\n",
       "    <tr>\n",
       "      <th>160535</th>\n",
       "      <td>Since there are usually multiple websites on a...</td>\n",
       "      <td>Puisqu'il y a de multiples sites web sur chaqu...</td>\n",
       "      <td>(Puisqu', il, y, a, de, multiples, sites, web,...</td>\n",
       "      <td>(Since, there, are, usually, multiple, website...</td>\n",
       "      <td>[976, 2394, 2614, 3484, 1769, 2306, 1736, 835,...</td>\n",
       "      <td>[1464, 1194, 1999, 2247, 2725, 2418, 36, 3154,...</td>\n",
       "    </tr>\n",
       "    <tr>\n",
       "      <th>160536</th>\n",
       "      <td>If someone who doesn't know your background sa...</td>\n",
       "      <td>Si quelqu'un qui ne connaît pas vos antécédent...</td>\n",
       "      <td>(Si, quelqu', un, qui, ne, connaît, pas, vos, ...</td>\n",
       "      <td>(If, someone, who, does, n't, know, your, back...</td>\n",
       "      <td>[1425, 1974, 1224, 3522, 632, 1984, 1943, 1521...</td>\n",
       "      <td>[2612, 162, 759, 2707, 924, 1994, 1805, 1189, ...</td>\n",
       "    </tr>\n",
       "    <tr>\n",
       "      <th>160537</th>\n",
       "      <td>It may be impossible to get a completely error...</td>\n",
       "      <td>Il est peut-être impossible d'obtenir un Corpu...</td>\n",
       "      <td>(Il, est, peut-être, impossible, d', obtenir, ...</td>\n",
       "      <td>(It, may, be, impossible, to, get, a, complete...</td>\n",
       "      <td>[4095, 2444, 3625, 3038, 4026, 3343, 1224, 293...</td>\n",
       "      <td>[2468, 2815, 899, 2362, 900, 2946, 2697, 2599,...</td>\n",
       "    </tr>\n",
       "  </tbody>\n",
       "</table>\n",
       "</div>"
      ],
      "text/plain": [
       "                                                        0  \\\n",
       "160533  A carbon footprint is the amount of carbon dio...   \n",
       "160534  Death is something that we're often discourage...   \n",
       "160535  Since there are usually multiple websites on a...   \n",
       "160536  If someone who doesn't know your background sa...   \n",
       "160537  It may be impossible to get a completely error...   \n",
       "\n",
       "                                                        1  \\\n",
       "160533  Une empreinte carbone est la somme de pollutio...   \n",
       "160534  La mort est une chose qu'on nous décourage sou...   \n",
       "160535  Puisqu'il y a de multiples sites web sur chaqu...   \n",
       "160536  Si quelqu'un qui ne connaît pas vos antécédent...   \n",
       "160537  Il est peut-être impossible d'obtenir un Corpu...   \n",
       "\n",
       "                                                fr_tokens  \\\n",
       "160533  (Une, empreinte, carbone, est, la, somme, de, ...   \n",
       "160534  (La, mort, est, une, chose, qu', on, nous, déc...   \n",
       "160535  (Puisqu', il, y, a, de, multiples, sites, web,...   \n",
       "160536  (Si, quelqu', un, qui, ne, connaît, pas, vos, ...   \n",
       "160537  (Il, est, peut-être, impossible, d', obtenir, ...   \n",
       "\n",
       "                                                en_tokens  \\\n",
       "160533  (A, carbon, footprint, is, the, amount, of, ca...   \n",
       "160534  (Death, is, something, that, we, 're, often, d...   \n",
       "160535  (Since, there, are, usually, multiple, website...   \n",
       "160536  (If, someone, who, does, n't, know, your, back...   \n",
       "160537  (It, may, be, impossible, to, get, a, complete...   \n",
       "\n",
       "                                               fr_indices  \\\n",
       "160533  [4008, 3950, 1868, 2444, 4005, 4009, 1769, 267...   \n",
       "160534  [2487, 3885, 2444, 528, 1137, 3047, 59, 1031, ...   \n",
       "160535  [976, 2394, 2614, 3484, 1769, 2306, 1736, 835,...   \n",
       "160536  [1425, 1974, 1224, 3522, 632, 1984, 1943, 1521...   \n",
       "160537  [4095, 2444, 3625, 3038, 4026, 3343, 1224, 293...   \n",
       "\n",
       "                                               en_indices  \n",
       "160533  [2230, 423, 2564, 1922, 1937, 669, 1913, 423, ...  \n",
       "160534  [993, 1922, 1174, 2706, 477, 1611, 121, 1787, ...  \n",
       "160535  [1464, 1194, 1999, 2247, 2725, 2418, 36, 3154,...  \n",
       "160536  [2612, 162, 759, 2707, 924, 1994, 1805, 1189, ...  \n",
       "160537  [2468, 2815, 899, 2362, 900, 2946, 2697, 2599,...  "
      ]
     },
     "execution_count": 23,
     "metadata": {},
     "output_type": "execute_result"
    }
   ],
   "source": [
    "doc.tail()"
   ]
  },
  {
   "cell_type": "code",
   "execution_count": 24,
   "metadata": {},
   "outputs": [],
   "source": [
    "# Use of Keras to create token sequences of the same length\n",
    "padded_fr_indices = tf.keras.preprocessing.sequence.pad_sequences(doc[\"fr_indices\"], padding=\"post\")\n",
    "padded_en_indices = tf.keras.preprocessing.sequence.pad_sequences(doc[\"en_indices\"], padding=\"post\")"
   ]
  },
  {
   "cell_type": "code",
   "execution_count": 25,
   "metadata": {},
   "outputs": [
    {
     "data": {
      "text/plain": [
       "(2000, 63)"
      ]
     },
     "execution_count": 25,
     "metadata": {},
     "output_type": "execute_result"
    }
   ],
   "source": [
    "# Visualization of the shape of one of the tensors\n",
    "padded_fr_indices.shape"
   ]
  },
  {
   "cell_type": "code",
   "execution_count": 26,
   "metadata": {},
   "outputs": [
    {
     "data": {
      "text/plain": [
       "(2000, 53)"
      ]
     },
     "execution_count": 26,
     "metadata": {},
     "output_type": "execute_result"
    }
   ],
   "source": [
    "padded_en_indices.shape"
   ]
  },
  {
   "cell_type": "code",
   "execution_count": 27,
   "metadata": {},
   "outputs": [
    {
     "data": {
      "text/plain": [
       "63"
      ]
     },
     "execution_count": 27,
     "metadata": {},
     "output_type": "execute_result"
    }
   ],
   "source": [
    "doc[\"fr_indices\"].apply(len).max()"
   ]
  },
  {
   "cell_type": "code",
   "execution_count": 28,
   "metadata": {},
   "outputs": [
    {
     "data": {
      "text/plain": [
       "53"
      ]
     },
     "execution_count": 28,
     "metadata": {},
     "output_type": "execute_result"
    }
   ],
   "source": [
    "doc[\"en_indices\"].apply(len).max()"
   ]
  },
  {
   "cell_type": "code",
   "execution_count": 29,
   "metadata": {},
   "outputs": [
    {
     "data": {
      "text/plain": [
       "(2000, 53, 3162)"
      ]
     },
     "execution_count": 29,
     "metadata": {},
     "output_type": "execute_result"
    }
   ],
   "source": [
    "# Application of the categorization of the target variable \n",
    "binarized_en_indices = tf.keras.utils.to_categorical(padded_en_indices, num_classes=en_vocab_size+1)\n",
    "binarized_en_indices.shape"
   ]
  },
  {
   "cell_type": "code",
   "execution_count": 30,
   "metadata": {},
   "outputs": [],
   "source": [
    "# Creation of tf.data.Dataset for each of the French and English tensors\n",
    "fr_ds = tf.data.Dataset.from_tensor_slices(padded_fr_indices)\n",
    "en_ds = tf.data.Dataset.from_tensor_slices(binarized_en_indices)"
   ]
  },
  {
   "cell_type": "code",
   "execution_count": 31,
   "metadata": {},
   "outputs": [],
   "source": [
    "# Create a complete tensorflow dataset\n",
    "tf_ds = tf.data.Dataset.zip((fr_ds, en_ds))"
   ]
  },
  {
   "cell_type": "code",
   "execution_count": 32,
   "metadata": {},
   "outputs": [
    {
     "data": {
      "text/plain": [
       "(<tf.Tensor: shape=(63,), dtype=int32, numpy=\n",
       " array([3323, 1898,    0,    0,    0,    0,    0,    0,    0,    0,    0,\n",
       "           0,    0,    0,    0,    0,    0,    0,    0,    0,    0,    0,\n",
       "           0,    0,    0,    0,    0,    0,    0,    0,    0,    0,    0,\n",
       "           0,    0,    0,    0,    0,    0,    0,    0,    0,    0,    0,\n",
       "           0,    0,    0,    0,    0,    0,    0,    0,    0,    0,    0,\n",
       "           0,    0,    0,    0,    0,    0,    0,    0])>,\n",
       " <tf.Tensor: shape=(53, 3162), dtype=float32, numpy=\n",
       " array([[0., 0., 0., ..., 0., 0., 1.],\n",
       "        [0., 0., 0., ..., 0., 0., 0.],\n",
       "        [1., 0., 0., ..., 0., 0., 0.],\n",
       "        ...,\n",
       "        [1., 0., 0., ..., 0., 0., 0.],\n",
       "        [1., 0., 0., ..., 0., 0., 0.],\n",
       "        [1., 0., 0., ..., 0., 0., 0.]], dtype=float32)>)"
      ]
     },
     "execution_count": 32,
     "metadata": {},
     "output_type": "execute_result"
    }
   ],
   "source": [
    "next(iter(tf_ds))"
   ]
  },
  {
   "cell_type": "code",
   "execution_count": 33,
   "metadata": {},
   "outputs": [],
   "source": [
    "# Shuffle & Batch\n",
    "BATCH_SIZE = 32\n",
    "\n",
    "tf_ds = tf_ds.shuffle(len(doc)).batch(BATCH_SIZE)"
   ]
  },
  {
   "cell_type": "code",
   "execution_count": 34,
   "metadata": {},
   "outputs": [],
   "source": [
    "TAKE_SIZE = int(0.7 * len(doc) / BATCH_SIZE)\n",
    "\n",
    "train_data = tf_ds.take(TAKE_SIZE)\n",
    "test_data = tf_ds.skip(TAKE_SIZE)"
   ]
  },
  {
   "cell_type": "code",
   "execution_count": 35,
   "metadata": {},
   "outputs": [],
   "source": [
    "# Create the model\n",
    "model = tf.keras.Sequential([\n",
    "                  # Input Word Embedding layer        \n",
    "                  tf.keras.layers.Embedding(fr_vocab_size + 1, 64, mask_zero=True),\n",
    "\n",
    "                  # LSTM Bidirectional layer\n",
    "                  tf.keras.layers.Bidirectional(tf.keras.layers.LSTM(64, return_sequences=True)),\n",
    "                  \n",
    "                  # LSTM Bidirectionnal new layer\n",
    "                  tf.keras.layers.Bidirectional(tf.keras.layers.LSTM(64, return_sequences=False)),\n",
    "\n",
    "                  # Repeat Vector\n",
    "                  tf.keras.layers.RepeatVector(binarized_en_indices.shape[1]),\n",
    "\n",
    "                  # LSTM new layer\n",
    "                  tf.keras.layers.LSTM(32, return_sequences=True),               \n",
    "\n",
    "                  # Output layer with number of output neurons equal to class number with softmax function\n",
    "                  tf.keras.layers.TimeDistributed(tf.keras.layers.Dense(en_vocab_size+1, activation=\"softmax\"))\n",
    "           \n",
    "])"
   ]
  },
  {
   "cell_type": "code",
   "execution_count": 36,
   "metadata": {},
   "outputs": [
    {
     "name": "stdout",
     "output_type": "stream",
     "text": [
      "Model: \"sequential\"\n",
      "_________________________________________________________________\n",
      " Layer (type)                Output Shape              Param #   \n",
      "=================================================================\n",
      " embedding (Embedding)       (None, None, 64)          264192    \n",
      "                                                                 \n",
      " bidirectional (Bidirectiona  (None, None, 128)        66048     \n",
      " l)                                                              \n",
      "                                                                 \n",
      " bidirectional_1 (Bidirectio  (None, 128)              98816     \n",
      " nal)                                                            \n",
      "                                                                 \n",
      " repeat_vector (RepeatVector  (None, 53, 128)          0         \n",
      " )                                                               \n",
      "                                                                 \n",
      " lstm_2 (LSTM)               (None, 53, 32)            20608     \n",
      "                                                                 \n",
      " time_distributed (TimeDistr  (None, 53, 3162)         104346    \n",
      " ibuted)                                                         \n",
      "                                                                 \n",
      "=================================================================\n",
      "Total params: 554,010\n",
      "Trainable params: 554,010\n",
      "Non-trainable params: 0\n",
      "_________________________________________________________________\n"
     ]
    }
   ],
   "source": [
    "model.summary()"
   ]
  },
  {
   "cell_type": "code",
   "execution_count": 37,
   "metadata": {},
   "outputs": [
    {
     "name": "stdout",
     "output_type": "stream",
     "text": [
      "(32, 63)\n",
      "1/1 [==============================] - 3s 3s/step\n",
      "(32, 53, 3162)\n",
      "(32, 53, 3162)\n"
     ]
    }
   ],
   "source": [
    "# \"Random\" prediction to test our model \n",
    "input_text, output_text = next(iter(train_data))\n",
    "print(input_text.numpy().shape)\n",
    "print(model.predict(input_text).shape)\n",
    "print(output_text.numpy().shape)"
   ]
  },
  {
   "cell_type": "code",
   "execution_count": 96,
   "metadata": {},
   "outputs": [],
   "source": [
    "# Let's create a learning rate schedule to decrease the learning rate as we train the model\n",
    "initial_learning_rate = 0.01\n",
    "\n",
    "lr_schedule = tf.keras.optimizers.schedules.ExponentialDecay(\n",
    "    initial_learning_rate,\n",
    "    decay_steps=1090,\n",
    "    decay_rate=0.96,\n",
    "    staircase=True)\n",
    "\n",
    "# Using a simple compiler with an Adam optimizer to compute our gradients \n",
    "optimizer= tf.keras.optimizers.Adam(\n",
    "    learning_rate = lr_schedule\n",
    ")\n",
    "\n",
    "model.compile(optimizer=optimizer,\n",
    "              loss=tf.keras.losses.CategoricalCrossentropy(),\n",
    "              metrics=[tf.keras.metrics.CategoricalAccuracy()])"
   ]
  },
  {
   "cell_type": "code",
   "execution_count": 134,
   "metadata": {},
   "outputs": [
    {
     "name": "stdout",
     "output_type": "stream",
     "text": [
      "Epoch 1/10\n",
      "43/43 [==============================] - 44s 993ms/step - loss: 0.5866 - categorical_accuracy: 0.8747 - val_loss: 0.5942 - val_categorical_accuracy: 0.8728\n",
      "Epoch 2/10\n",
      "43/43 [==============================] - 44s 1s/step - loss: 0.5749 - categorical_accuracy: 0.8762 - val_loss: 0.5864 - val_categorical_accuracy: 0.8739\n",
      "Epoch 3/10\n",
      "43/43 [==============================] - 46s 1s/step - loss: 0.5911 - categorical_accuracy: 0.8734 - val_loss: 0.5871 - val_categorical_accuracy: 0.8707\n",
      "Epoch 4/10\n",
      "43/43 [==============================] - 46s 1s/step - loss: 0.5753 - categorical_accuracy: 0.8759 - val_loss: 0.5707 - val_categorical_accuracy: 0.8761\n",
      "Epoch 5/10\n",
      "43/43 [==============================] - 46s 1s/step - loss: 0.5976 - categorical_accuracy: 0.8719 - val_loss: 0.5927 - val_categorical_accuracy: 0.8740\n",
      "Epoch 6/10\n",
      "43/43 [==============================] - 46s 1s/step - loss: 0.6084 - categorical_accuracy: 0.8694 - val_loss: 0.6199 - val_categorical_accuracy: 0.8631\n",
      "Epoch 7/10\n",
      "43/43 [==============================] - 45s 1s/step - loss: 0.6034 - categorical_accuracy: 0.8685 - val_loss: 0.5941 - val_categorical_accuracy: 0.8729\n",
      "Epoch 8/10\n",
      "43/43 [==============================] - 45s 1s/step - loss: 0.5873 - categorical_accuracy: 0.8732 - val_loss: 0.6119 - val_categorical_accuracy: 0.8656\n",
      "Epoch 9/10\n",
      "43/43 [==============================] - 44s 1s/step - loss: 0.5700 - categorical_accuracy: 0.8764 - val_loss: 0.5704 - val_categorical_accuracy: 0.8767\n",
      "Epoch 10/10\n",
      "43/43 [==============================] - 45s 1s/step - loss: 0.5702 - categorical_accuracy: 0.8764 - val_loss: 0.5812 - val_categorical_accuracy: 0.8726\n"
     ]
    }
   ],
   "source": [
    "history_lstm = model.fit(train_data,\n",
    "                    validation_data=test_data,\n",
    "                    epochs=10)"
   ]
  },
  {
   "cell_type": "code",
   "execution_count": 78,
   "metadata": {},
   "outputs": [
    {
     "name": "stdout",
     "output_type": "stream",
     "text": [
      "1/1 [==============================] - 0s 134ms/step\n"
     ]
    }
   ],
   "source": [
    "# Testing a translation\n",
    "for input_text, translation in test_data.take(1):\n",
    "    pred = np.argmax(model.predict(input_text), axis=-1)"
   ]
  },
  {
   "cell_type": "code",
   "execution_count": 106,
   "metadata": {},
   "outputs": [
    {
     "name": "stdout",
     "output_type": "stream",
     "text": [
      "1/1 [==============================] - 3s 3s/step\n"
     ]
    }
   ],
   "source": [
    "pred_lstm = np.argmax(model.predict(input_text), axis=-1)"
   ]
  },
  {
   "cell_type": "code",
   "execution_count": 107,
   "metadata": {},
   "outputs": [],
   "source": [
    "# CAUTION: it's possible because there is only one key for each value\n",
    "indice_to_fr_token = dict(zip(all_fr_tokens.values(), all_fr_tokens.keys()))\n",
    "indice_to_en_token = dict(zip(all_fr_tokens.values(), all_en_tokens.keys()))"
   ]
  },
  {
   "cell_type": "code",
   "execution_count": 108,
   "metadata": {},
   "outputs": [
    {
     "name": "stdout",
     "output_type": "stream",
     "text": [
      "Je\n",
      "n'\n",
      "arrive\n",
      "pas\n",
      "à\n",
      "croire\n",
      "que\n",
      "vous\n",
      "ne\n",
      "soyez\n",
      "pas\n",
      "disposés\n",
      "à\n",
      "au\n",
      "moins\n",
      "envisager\n",
      "la\n",
      "possibilité\n",
      "qu'\n",
      "il\n",
      "y\n",
      "ait\n",
      "une\n",
      "autre\n",
      "explication\n",
      ".\n"
     ]
    }
   ],
   "source": [
    "# French Sentence \n",
    "for indice in input_text[0]:\n",
    "    if indice == 0:\n",
    "        break\n",
    "    print(indice_to_fr_token[indice.numpy()])"
   ]
  },
  {
   "cell_type": "code",
   "execution_count": 109,
   "metadata": {},
   "outputs": [
    {
     "name": "stdout",
     "output_type": "stream",
     "text": [
      "I\n",
      "ca\n",
      "n't\n",
      "believe\n",
      "that\n",
      "you\n",
      "are\n",
      "n't\n",
      "at\n",
      "least\n",
      "willing\n",
      "to\n",
      "consider\n",
      "the\n",
      "possibility\n",
      "that\n",
      "there\n",
      "'s\n",
      "another\n",
      "explanation\n",
      ".\n"
     ]
    }
   ],
   "source": [
    "# Real English Sentence \n",
    "for indice in np.argmax(translation, axis=-1)[0]:\n",
    "    if indice == 0:\n",
    "        break\n",
    "    print(indice_to_en_token[indice])"
   ]
  },
  {
   "cell_type": "code",
   "execution_count": 111,
   "metadata": {},
   "outputs": [
    {
     "name": "stdout",
     "output_type": "stream",
     "text": [
      "I\n",
      "ca\n",
      "n't\n",
      "believe\n",
      "that\n",
      "are\n",
      "are\n",
      "are\n",
      "least\n",
      "least\n",
      "willing\n",
      "least\n",
      "consider\n",
      "consider\n",
      "possibility\n",
      "possibility\n",
      "there\n",
      "another\n",
      "another\n",
      "explanation\n",
      ".\n"
     ]
    }
   ],
   "source": [
    "# Sentence translated into English by the model \n",
    "for indice in pred_lstm[0]:\n",
    "    if indice == 0:\n",
    "        break\n",
    "    print(indice_to_en_token[indice])"
   ]
  },
  {
   "cell_type": "code",
   "execution_count": 63,
   "metadata": {},
   "outputs": [],
   "source": [
    "import tensorflow as tf\n",
    "\n",
    "# Create the model using GRU\n",
    "model_gru = tf.keras.Sequential([\n",
    "    # Input Word Embedding layer\n",
    "    tf.keras.layers.Embedding(fr_vocab_size + 1, 64, mask_zero=True),\n",
    "\n",
    "    # GRU Bidirectional layer\n",
    "    tf.keras.layers.Bidirectional(tf.keras.layers.GRU(64, return_sequences=True)),\n",
    "    \n",
    "    # GRU Bidirectional new layer\n",
    "    tf.keras.layers.Bidirectional(tf.keras.layers.GRU(64, return_sequences=False)),\n",
    "\n",
    "    # Repeat Vector\n",
    "    tf.keras.layers.RepeatVector(binarized_en_indices.shape[1]),\n",
    "\n",
    "    # GRU new layer\n",
    "    tf.keras.layers.GRU(32, return_sequences=True),\n",
    "\n",
    "    # Output layer with number of output neurons equal to class number with softmax function\n",
    "    tf.keras.layers.TimeDistributed(tf.keras.layers.Dense(en_vocab_size + 1, activation=\"softmax\"))\n",
    "])\n"
   ]
  },
  {
   "cell_type": "code",
   "execution_count": 64,
   "metadata": {},
   "outputs": [
    {
     "name": "stdout",
     "output_type": "stream",
     "text": [
      "Model: \"sequential_1\"\n",
      "_________________________________________________________________\n",
      " Layer (type)                Output Shape              Param #   \n",
      "=================================================================\n",
      " embedding_1 (Embedding)     (None, None, 64)          264192    \n",
      "                                                                 \n",
      " bidirectional_2 (Bidirectio  (None, None, 128)        49920     \n",
      " nal)                                                            \n",
      "                                                                 \n",
      " bidirectional_3 (Bidirectio  (None, 128)              74496     \n",
      " nal)                                                            \n",
      "                                                                 \n",
      " repeat_vector_1 (RepeatVect  (None, 53, 128)          0         \n",
      " or)                                                             \n",
      "                                                                 \n",
      " gru_2 (GRU)                 (None, 53, 32)            15552     \n",
      "                                                                 \n",
      " time_distributed_1 (TimeDis  (None, 53, 3162)         104346    \n",
      " tributed)                                                       \n",
      "                                                                 \n",
      "=================================================================\n",
      "Total params: 508,506\n",
      "Trainable params: 508,506\n",
      "Non-trainable params: 0\n",
      "_________________________________________________________________\n"
     ]
    }
   ],
   "source": [
    "model_gru.summary()"
   ]
  },
  {
   "cell_type": "code",
   "execution_count": 65,
   "metadata": {},
   "outputs": [],
   "source": [
    "# Let's create a learning rate schedule to decrease the learning rate as we train the model\n",
    "initial_learning_rate = 0.01\n",
    "\n",
    "lr_schedule = tf.keras.optimizers.schedules.ExponentialDecay(\n",
    "    initial_learning_rate,\n",
    "    decay_steps=1090,\n",
    "    decay_rate=0.96,\n",
    "    staircase=True)\n",
    "\n",
    "# Using a simple compiler with an Adam optimizer to compute our gradients \n",
    "optimizer= tf.keras.optimizers.Adam(\n",
    "    learning_rate = lr_schedule\n",
    ")\n",
    "\n",
    "model_gru.compile(optimizer=optimizer,\n",
    "              loss=tf.keras.losses.CategoricalCrossentropy(),\n",
    "              metrics=[tf.keras.metrics.CategoricalAccuracy()])"
   ]
  },
  {
   "cell_type": "code",
   "execution_count": 135,
   "metadata": {},
   "outputs": [
    {
     "name": "stdout",
     "output_type": "stream",
     "text": [
      "Epoch 1/10\n"
     ]
    },
    {
     "name": "stdout",
     "output_type": "stream",
     "text": [
      "43/43 [==============================] - 27s 612ms/step - loss: 0.9344 - categorical_accuracy: 0.8277 - val_loss: 0.8862 - val_categorical_accuracy: 0.8320\n",
      "Epoch 2/10\n",
      "43/43 [==============================] - 27s 619ms/step - loss: 0.8463 - categorical_accuracy: 0.8420 - val_loss: 0.8546 - val_categorical_accuracy: 0.8388\n",
      "Epoch 3/10\n",
      "43/43 [==============================] - 27s 621ms/step - loss: 0.8568 - categorical_accuracy: 0.8403 - val_loss: 0.9080 - val_categorical_accuracy: 0.8284\n",
      "Epoch 4/10\n",
      "43/43 [==============================] - 27s 628ms/step - loss: 0.8794 - categorical_accuracy: 0.8359 - val_loss: 0.8279 - val_categorical_accuracy: 0.8452\n",
      "Epoch 5/10\n",
      "43/43 [==============================] - 27s 630ms/step - loss: 0.8507 - categorical_accuracy: 0.8405 - val_loss: 0.8417 - val_categorical_accuracy: 0.8420\n",
      "Epoch 6/10\n",
      "43/43 [==============================] - 28s 636ms/step - loss: 0.8718 - categorical_accuracy: 0.8360 - val_loss: 0.8426 - val_categorical_accuracy: 0.8414\n",
      "Epoch 7/10\n",
      "43/43 [==============================] - 29s 666ms/step - loss: 0.8620 - categorical_accuracy: 0.8395 - val_loss: 0.8310 - val_categorical_accuracy: 0.8428\n",
      "Epoch 8/10\n",
      "43/43 [==============================] - 28s 642ms/step - loss: 0.8722 - categorical_accuracy: 0.8365 - val_loss: 0.8454 - val_categorical_accuracy: 0.8428\n",
      "Epoch 9/10\n",
      "43/43 [==============================] - 28s 648ms/step - loss: 0.8819 - categorical_accuracy: 0.8354 - val_loss: 0.8534 - val_categorical_accuracy: 0.8394\n",
      "Epoch 10/10\n",
      "43/43 [==============================] - 28s 648ms/step - loss: 0.8851 - categorical_accuracy: 0.8346 - val_loss: 0.8576 - val_categorical_accuracy: 0.8377\n"
     ]
    }
   ],
   "source": [
    "history_gru = model_gru.fit(train_data,\n",
    "                    validation_data=test_data,\n",
    "                    epochs=10)"
   ]
  },
  {
   "cell_type": "code",
   "execution_count": 99,
   "metadata": {},
   "outputs": [
    {
     "name": "stdout",
     "output_type": "stream",
     "text": [
      "Je\n",
      "n'\n",
      "arrive\n",
      "pas\n",
      "à\n",
      "croire\n",
      "que\n",
      "vous\n",
      "ne\n",
      "soyez\n",
      "pas\n",
      "disposés\n",
      "à\n",
      "au\n",
      "moins\n",
      "envisager\n",
      "la\n",
      "possibilité\n",
      "qu'\n",
      "il\n",
      "y\n",
      "ait\n",
      "une\n",
      "autre\n",
      "explication\n",
      ".\n"
     ]
    }
   ],
   "source": [
    "# French Sentence \n",
    "for indice in input_text[0]:\n",
    "    if indice == 0:\n",
    "        break\n",
    "    print(indice_to_fr_token[indice.numpy()])"
   ]
  },
  {
   "cell_type": "code",
   "execution_count": 100,
   "metadata": {},
   "outputs": [
    {
     "name": "stdout",
     "output_type": "stream",
     "text": [
      "I\n",
      "ca\n",
      "n't\n",
      "believe\n",
      "that\n",
      "you\n",
      "are\n",
      "n't\n",
      "at\n",
      "least\n",
      "willing\n",
      "to\n",
      "consider\n",
      "the\n",
      "possibility\n",
      "that\n",
      "there\n",
      "'s\n",
      "another\n",
      "explanation\n",
      ".\n"
     ]
    }
   ],
   "source": [
    "# Real English Sentence \n",
    "for indice in np.argmax(translation, axis=-1)[0]:\n",
    "    if indice == 0:\n",
    "        break\n",
    "    print(indice_to_en_token[indice])"
   ]
  },
  {
   "cell_type": "code",
   "execution_count": 104,
   "metadata": {},
   "outputs": [
    {
     "name": "stdout",
     "output_type": "stream",
     "text": [
      "1/1 [==============================] - 0s 148ms/step\n"
     ]
    }
   ],
   "source": [
    "pred_gru = np.argmax(model_gru.predict(input_text), axis=-1)"
   ]
  },
  {
   "cell_type": "code",
   "execution_count": 105,
   "metadata": {},
   "outputs": [
    {
     "name": "stdout",
     "output_type": "stream",
     "text": [
      "I\n",
      "'m\n",
      "n't\n",
      "believe\n",
      "to\n",
      "to\n",
      ",\n",
      ",\n",
      ",\n",
      ",\n",
      ",\n",
      ",\n",
      "consider\n",
      "consider\n",
      "possibility\n",
      "possibility\n",
      "possibility\n",
      "to\n",
      ".\n",
      ".\n",
      ".\n"
     ]
    }
   ],
   "source": [
    "# Sentence translated into English by the model \n",
    "for indice in pred_gru[0]:\n",
    "    if indice == 0:\n",
    "        break\n",
    "    print(indice_to_en_token[indice])"
   ]
  },
  {
   "cell_type": "code",
   "execution_count": 120,
   "metadata": {},
   "outputs": [],
   "source": [
    "import tensorflow as tf\n",
    "\n",
    "# Create the model using SimpleRNN\n",
    "model_rnn = tf.keras.Sequential([\n",
    "    # Input Word Embedding layer\n",
    "    tf.keras.layers.Embedding(fr_vocab_size + 1, 64, mask_zero=True),\n",
    "\n",
    "    # RNN Bidirectional layer\n",
    "    tf.keras.layers.Bidirectional(tf.keras.layers.SimpleRNN(64, return_sequences=True)),\n",
    "    \n",
    "    # RNN Bidirectional new layer\n",
    "    tf.keras.layers.Bidirectional(tf.keras.layers.SimpleRNN(64, return_sequences=False)),\n",
    "\n",
    "    # Repeat Vector\n",
    "    tf.keras.layers.RepeatVector(binarized_en_indices.shape[1]),\n",
    "\n",
    "    # RNN new layer\n",
    "    tf.keras.layers.SimpleRNN(32, return_sequences=True),\n",
    "\n",
    "    # Output layer with number of output neurons equal to class number with softmax function\n",
    "    tf.keras.layers.TimeDistributed(tf.keras.layers.Dense(en_vocab_size + 1, activation=\"softmax\"))\n",
    "])\n"
   ]
  },
  {
   "cell_type": "code",
   "execution_count": 121,
   "metadata": {},
   "outputs": [
    {
     "name": "stdout",
     "output_type": "stream",
     "text": [
      "Model: \"sequential_4\"\n",
      "_________________________________________________________________\n",
      " Layer (type)                Output Shape              Param #   \n",
      "=================================================================\n",
      " embedding_4 (Embedding)     (None, None, 64)          264192    \n",
      "                                                                 \n",
      " bidirectional_8 (Bidirectio  (None, None, 128)        16512     \n",
      " nal)                                                            \n",
      "                                                                 \n",
      " bidirectional_9 (Bidirectio  (None, 128)              24704     \n",
      " nal)                                                            \n",
      "                                                                 \n",
      " repeat_vector_4 (RepeatVect  (None, 53, 128)          0         \n",
      " or)                                                             \n",
      "                                                                 \n",
      " simple_rnn_8 (SimpleRNN)    (None, 53, 32)            5152      \n",
      "                                                                 \n",
      " time_distributed_4 (TimeDis  (None, 53, 3162)         104346    \n",
      " tributed)                                                       \n",
      "                                                                 \n",
      "=================================================================\n",
      "Total params: 414,906\n",
      "Trainable params: 414,906\n",
      "Non-trainable params: 0\n",
      "_________________________________________________________________\n"
     ]
    }
   ],
   "source": [
    "model_rnn.summary()"
   ]
  },
  {
   "cell_type": "code",
   "execution_count": 127,
   "metadata": {},
   "outputs": [],
   "source": [
    "# Let's create a learning rate schedule to decrease the learning rate as we train the model\n",
    "initial_learning_rate = 0.001\n",
    "\n",
    "lr_schedule = tf.keras.optimizers.schedules.ExponentialDecay(\n",
    "    initial_learning_rate,\n",
    "    decay_steps=1090,\n",
    "    decay_rate=0.96,\n",
    "    staircase=True)\n",
    "\n",
    "# Using a simple compiler with an Adam optimizer to compute our gradients \n",
    "optimizer= tf.keras.optimizers.Adam(\n",
    "    learning_rate = lr_schedule\n",
    ")\n",
    "\n",
    "model_rnn.compile(optimizer=optimizer,\n",
    "              loss=tf.keras.losses.CategoricalCrossentropy(),\n",
    "              metrics=[tf.keras.metrics.CategoricalAccuracy()])"
   ]
  },
  {
   "cell_type": "code",
   "execution_count": 136,
   "metadata": {},
   "outputs": [
    {
     "name": "stdout",
     "output_type": "stream",
     "text": [
      "Epoch 1/10\n"
     ]
    },
    {
     "name": "stdout",
     "output_type": "stream",
     "text": [
      "43/43 [==============================] - 21s 490ms/step - loss: 1.2612 - categorical_accuracy: 0.8086 - val_loss: 1.2515 - val_categorical_accuracy: 0.8043\n",
      "Epoch 2/10\n",
      "43/43 [==============================] - 21s 477ms/step - loss: 1.3256 - categorical_accuracy: 0.7951 - val_loss: 1.2690 - val_categorical_accuracy: 0.8008\n",
      "Epoch 3/10\n",
      "43/43 [==============================] - 20s 457ms/step - loss: 1.2738 - categorical_accuracy: 0.8015 - val_loss: 1.2832 - val_categorical_accuracy: 0.8015\n",
      "Epoch 4/10\n",
      "43/43 [==============================] - 20s 472ms/step - loss: 1.2813 - categorical_accuracy: 0.7998 - val_loss: 1.2132 - val_categorical_accuracy: 0.8105\n",
      "Epoch 5/10\n",
      "43/43 [==============================] - 22s 506ms/step - loss: 1.2852 - categorical_accuracy: 0.7988 - val_loss: 1.2563 - val_categorical_accuracy: 0.8022\n",
      "Epoch 6/10\n",
      "43/43 [==============================] - 21s 474ms/step - loss: 1.2830 - categorical_accuracy: 0.8022 - val_loss: 1.4130 - val_categorical_accuracy: 0.7707\n",
      "Epoch 7/10\n",
      "43/43 [==============================] - 21s 478ms/step - loss: 1.2931 - categorical_accuracy: 0.8010 - val_loss: 1.1828 - val_categorical_accuracy: 0.8132\n",
      "Epoch 8/10\n",
      "43/43 [==============================] - 21s 475ms/step - loss: 1.2695 - categorical_accuracy: 0.8013 - val_loss: 1.2871 - val_categorical_accuracy: 0.7992\n",
      "Epoch 9/10\n",
      "43/43 [==============================] - 20s 463ms/step - loss: 1.2668 - categorical_accuracy: 0.8025 - val_loss: 1.2444 - val_categorical_accuracy: 0.8039\n",
      "Epoch 10/10\n",
      "43/43 [==============================] - 20s 448ms/step - loss: 1.2638 - categorical_accuracy: 0.8026 - val_loss: 1.2460 - val_categorical_accuracy: 0.8057\n"
     ]
    }
   ],
   "source": [
    "history = model_rnn.fit(train_data,\n",
    "                    validation_data=test_data,\n",
    "                    epochs=10)"
   ]
  },
  {
   "cell_type": "code",
   "execution_count": 129,
   "metadata": {},
   "outputs": [
    {
     "name": "stdout",
     "output_type": "stream",
     "text": [
      "Je\n",
      "n'\n",
      "arrive\n",
      "pas\n",
      "à\n",
      "croire\n",
      "que\n",
      "vous\n",
      "ne\n",
      "soyez\n",
      "pas\n",
      "disposés\n",
      "à\n",
      "au\n",
      "moins\n",
      "envisager\n",
      "la\n",
      "possibilité\n",
      "qu'\n",
      "il\n",
      "y\n",
      "ait\n",
      "une\n",
      "autre\n",
      "explication\n",
      ".\n"
     ]
    }
   ],
   "source": [
    "# French Sentence \n",
    "for indice in input_text[0]:\n",
    "    if indice == 0:\n",
    "        break\n",
    "    print(indice_to_fr_token[indice.numpy()])"
   ]
  },
  {
   "cell_type": "code",
   "execution_count": 130,
   "metadata": {},
   "outputs": [
    {
     "name": "stdout",
     "output_type": "stream",
     "text": [
      "I\n",
      "ca\n",
      "n't\n",
      "believe\n",
      "that\n",
      "you\n",
      "are\n",
      "n't\n",
      "at\n",
      "least\n",
      "willing\n",
      "to\n",
      "consider\n",
      "the\n",
      "possibility\n",
      "that\n",
      "there\n",
      "'s\n",
      "another\n",
      "explanation\n",
      ".\n"
     ]
    }
   ],
   "source": [
    "# Real English Sentence \n",
    "for indice in np.argmax(translation, axis=-1)[0]:\n",
    "    if indice == 0:\n",
    "        break\n",
    "    print(indice_to_en_token[indice])"
   ]
  },
  {
   "cell_type": "code",
   "execution_count": 131,
   "metadata": {},
   "outputs": [
    {
     "name": "stdout",
     "output_type": "stream",
     "text": [
      "WARNING:tensorflow:6 out of the last 15 calls to <function Model.make_predict_function.<locals>.predict_function at 0x000002B786F93640> triggered tf.function retracing. Tracing is expensive and the excessive number of tracings could be due to (1) creating @tf.function repeatedly in a loop, (2) passing tensors with different shapes, (3) passing Python objects instead of tensors. For (1), please define your @tf.function outside of the loop. For (2), @tf.function has reduce_retracing=True option that can avoid unnecessary retracing. For (3), please refer to https://www.tensorflow.org/guide/function#controlling_retracing and https://www.tensorflow.org/api_docs/python/tf/function for  more details.\n",
      "1/1 [==============================] - 1s 617ms/step\n",
      "I\n",
      "We\n",
      "'m\n",
      ",\n",
      ",\n",
      "to\n",
      "to\n",
      ".\n"
     ]
    }
   ],
   "source": [
    "pred_rnn = np.argmax(model_rnn.predict(input_text), axis=-1)\n",
    "# Sentence translated into English by the model \n",
    "for indice in pred_rnn[0]:\n",
    "    if indice == 0:\n",
    "        break\n",
    "    print(indice_to_en_token[indice])"
   ]
  },
  {
   "cell_type": "code",
   "execution_count": 132,
   "metadata": {},
   "outputs": [],
   "source": [
    "history_rnn = history"
   ]
  },
  {
   "cell_type": "code",
   "execution_count": 141,
   "metadata": {},
   "outputs": [
    {
     "data": {
      "image/png": "[encoded data removed]",
      "text/plain": [
       "<Figure size 1152x864 with 4 Axes>"
      ]
     },
     "metadata": {},
     "output_type": "display_data"
    }
   ],
   "source": [
    "import matplotlib.pyplot as plt\n",
    "\n",
    "def plot_model_histories(history_rnn, history_lstm, history_gru):\n",
    "    epochs = range(1, len(history_rnn.history['loss']) + 1)\n",
    "\n",
    "    plt.figure(figsize=(16, 12))\n",
    "    plt.style.use('seaborn-darkgrid')  # Using seaborn style for better aesthetics\n",
    "\n",
    "    # Color palette\n",
    "    colors = ['skyblue', 'lightgreen', 'salmon']\n",
    "\n",
    "    # Plotting training loss\n",
    "    plt.subplot(2, 2, 1)\n",
    "    plt.plot(epochs, history_rnn.history['loss'], label='RNN', color=colors[0], marker='o')\n",
    "    plt.plot(epochs, history_lstm.history['loss'], label='LSTM', color=colors[1], marker='o')\n",
    "    plt.plot(epochs, history_gru.history['loss'], label='GRU', color=colors[2], marker='o')\n",
    "    plt.title('Training Loss', fontsize=16)\n",
    "    plt.xlabel('Epochs', fontsize=14)\n",
    "    plt.ylabel('Loss', fontsize=14)\n",
    "    plt.legend(fontsize=12)\n",
    "\n",
    "    # Plotting training categorical accuracy\n",
    "    plt.subplot(2, 2, 2)\n",
    "    plt.plot(epochs, history_rnn.history['categorical_accuracy'], label='RNN', color=colors[0], marker='o')\n",
    "    plt.plot(epochs, history_lstm.history['categorical_accuracy'], label='LSTM', color=colors[1], marker='o')\n",
    "    plt.plot(epochs, history_gru.history['categorical_accuracy'], label='GRU', color=colors[2], marker='o')\n",
    "    plt.title('Training Categorical Accuracy', fontsize=16)\n",
    "    plt.xlabel('Epochs', fontsize=14)\n",
    "    plt.ylabel('Categorical Accuracy', fontsize=14)\n",
    "    plt.legend(fontsize=12)\n",
    "\n",
    "    # Plotting validation loss\n",
    "    plt.subplot(2, 2, 3)\n",
    "    plt.plot(epochs, history_rnn.history['val_loss'], label='RNN', color=colors[0], marker='o')\n",
    "    plt.plot(epochs, history_lstm.history['val_loss'], label='LSTM', color=colors[1], marker='o')\n",
    "    plt.plot(epochs, history_gru.history['val_loss'], label='GRU', color=colors[2], marker='o')\n",
    "    plt.title('Validation Loss', fontsize=16)\n",
    "    plt.xlabel('Epochs', fontsize=14)\n",
    "    plt.ylabel('Loss', fontsize=14)\n",
    "    plt.legend(fontsize=12)\n",
    "\n",
    "    # Plotting validation categorical accuracy\n",
    "    plt.subplot(2, 2, 4)\n",
    "    plt.plot(epochs, history_rnn.history['val_categorical_accuracy'], label='RNN', color=colors[0], marker='o')\n",
    "    plt.plot(epochs, history_lstm.history['val_categorical_accuracy'], label='LSTM', color=colors[1], marker='o')\n",
    "    plt.plot(epochs, history_gru.history['val_categorical_accuracy'], label='GRU', color=colors[2], marker='o')\n",
    "    plt.title('Validation Categorical Accuracy', fontsize=16)\n",
    "    plt.xlabel('Epochs', fontsize=14)\n",
    "    plt.ylabel('Categorical Accuracy', fontsize=14)\n",
    "    plt.legend(fontsize=12)\n",
    "\n",
    "    plt.tight_layout(pad=3.0)  # Adjust layout to prevent overlap\n",
    "    plt.show()\n",
    "\n",
    "# Assuming history_rnn, history_lstm, history_gru are actual History objects from Keras\n",
    "plot_model_histories(history, history_lstm, history_gru)\n"
   ]
  },
  {
   "cell_type": "code",
   "execution_count": 142,
   "metadata": {},
   "outputs": [],
   "source": [
    "# French reference sentence\n",
    "french_sentence = \"Je n' arrive pas à croire que vous ne soyez pas disposés à au moins envisager la possibilité qu' il y ait une autre explication.\"\n",
    "\n",
    "# Ideal English translation\n",
    "english_sentence = \"I can't believe that you aren't at least willing to consider the possibility that there's another explanation.\"\n",
    "\n",
    "# LSTM model prediction\n",
    "lstm_prediction = \"I can't believe that are are are least least willing least consider consider possibility possibility there another another explanation.\"\n",
    "\n",
    "# GRU model prediction\n",
    "gru_prediction = \"I'm n't believe to to , , , , , , consider consider possibility possibility possibility to . . .\"\n",
    "\n",
    "# RNN model prediction\n",
    "rnn_prediction = \"I We 'm , , to to .\"\n"
   ]
  },
  {
   "cell_type": "code",
   "execution_count": 143,
   "metadata": {},
   "outputs": [
    {
     "name": "stdout",
     "output_type": "stream",
     "text": [
      "BLEU Score for LSTM prediction: 0.2718067054614708\n",
      "BLEU Score for GRU prediction: 5.359624986283916e-155\n",
      "BLEU Score for RNN prediction: 2.8072921250592275e-232\n"
     ]
    },
    {
     "name": "stderr",
     "output_type": "stream",
     "text": [
      "c:\\Users\\Farae\\AppData\\Local\\Programs\\Python\\Python310\\lib\\site-packages\\nltk\\translate\\bleu_score.py:552: UserWarning: \n",
      "The hypothesis contains 0 counts of 3-gram overlaps.\n",
      "Therefore the BLEU score evaluates to 0, independently of\n",
      "how many N-gram overlaps of lower order it contains.\n",
      "Consider using lower n-gram order or use SmoothingFunction()\n",
      "  warnings.warn(_msg)\n",
      "c:\\Users\\Farae\\AppData\\Local\\Programs\\Python\\Python310\\lib\\site-packages\\nltk\\translate\\bleu_score.py:552: UserWarning: \n",
      "The hypothesis contains 0 counts of 4-gram overlaps.\n",
      "Therefore the BLEU score evaluates to 0, independently of\n",
      "how many N-gram overlaps of lower order it contains.\n",
      "Consider using lower n-gram order or use SmoothingFunction()\n",
      "  warnings.warn(_msg)\n",
      "c:\\Users\\Farae\\AppData\\Local\\Programs\\Python\\Python310\\lib\\site-packages\\nltk\\translate\\bleu_score.py:552: UserWarning: \n",
      "The hypothesis contains 0 counts of 2-gram overlaps.\n",
      "Therefore the BLEU score evaluates to 0, independently of\n",
      "how many N-gram overlaps of lower order it contains.\n",
      "Consider using lower n-gram order or use SmoothingFunction()\n",
      "  warnings.warn(_msg)\n"
     ]
    }
   ],
   "source": [
    "from nltk.translate.bleu_score import sentence_bleu\n",
    "from nltk.tokenize import word_tokenize\n",
    "\n",
    "def calculate_bleu(candidate, reference):\n",
    "    # Tokenizing the candidate and reference sentences\n",
    "    candidate_tokens = word_tokenize(candidate)\n",
    "    reference_tokens = word_tokenize(reference)\n",
    "    \n",
    "    # The reference tokens need to be in a list of lists format\n",
    "    references = [reference_tokens]\n",
    "    \n",
    "    # Calculating the BLEU score\n",
    "    bleu_score = sentence_bleu(references, candidate_tokens)\n",
    "    \n",
    "    return bleu_score\n",
    "\n",
    "# Calculate BLEU score for LSTM prediction\n",
    "bleu_score_lstm = calculate_bleu(lstm_prediction, english_sentence)\n",
    "bleu_score_gru = calculate_bleu(gru_prediction, english_sentence)\n",
    "bleu_score_rnn = calculate_bleu(rnn_prediction, english_sentence)\n",
    "\n",
    "print(f\"BLEU Score for LSTM prediction: {bleu_score_lstm}\")\n",
    "print(\"BLEU Score for GRU prediction:\", bleu_score_gru)\n",
    "print(\"BLEU Score for RNN prediction:\", bleu_score_rnn)\n"
   ]
  },
  {
   "cell_type": "code",
   "execution_count": 144,
   "metadata": {},
   "outputs": [
    {
     "name": "stdout",
     "output_type": "stream",
     "text": [
      "ROUGE Score for LSTM prediction: {'rouge-1': {'r': 0.625, 'p': 0.8333333333333334, 'f': 0.7142857093877552}, 'rouge-2': {'r': 0.3125, 'p': 0.29411764705882354, 'f': 0.30303029803489445}, 'rouge-l': {'r': 0.625, 'p': 0.8333333333333334, 'f': 0.7142857093877552}}\n",
      "ROUGE Score for GRU prediction: {'rouge-1': {'r': 0.25, 'p': 0.5, 'f': 0.33333332888888895}, 'rouge-2': {'r': 0.0, 'p': 0.0, 'f': 0.0}, 'rouge-l': {'r': 0.25, 'p': 0.5, 'f': 0.33333332888888895}}\n",
      "ROUGE Score for RNN prediction: {'rouge-1': {'r': 0.125, 'p': 0.4, 'f': 0.1904761868480726}, 'rouge-2': {'r': 0.0, 'p': 0.0, 'f': 0.0}, 'rouge-l': {'r': 0.125, 'p': 0.4, 'f': 0.1904761868480726}}\n"
     ]
    }
   ],
   "source": [
    "from rouge import Rouge\n",
    "\n",
    "def calculate_rouge(candidate, reference):\n",
    "    rouge = Rouge()\n",
    "    scores = rouge.get_scores(candidate, reference, avg=True)  # avg=True to get the average of the scores\n",
    "    return scores\n",
    "\n",
    "# Calculate ROUGE scores for LSTM, GRU, and RNN predictions\n",
    "rouge_score_lstm = calculate_rouge(lstm_prediction, english_sentence)\n",
    "rouge_score_gru = calculate_rouge(gru_prediction, english_sentence)\n",
    "rouge_score_rnn = calculate_rouge(rnn_prediction, english_sentence)\n",
    "\n",
    "print(\"ROUGE Score for LSTM prediction:\", rouge_score_lstm)\n",
    "print(\"ROUGE Score for GRU prediction:\", rouge_score_gru)\n",
    "print(\"ROUGE Score for RNN prediction:\", rouge_score_rnn)\n"
   ]
  },
  {
   "cell_type": "code",
   "execution_count": 148,
   "metadata": {},
   "outputs": [
    {
     "data": {
      "image/png": "[encoded data removed]",
      "text/plain": [
       "<Figure size 576x216 with 1 Axes>"
      ]
     },
     "metadata": {},
     "output_type": "display_data"
    }
   ],
   "source": [
    "import pandas as pd\n",
    "import matplotlib.pyplot as plt\n",
    "\n",
    "# BLEU Scores Data\n",
    "data_bleu = {\n",
    "    'Model': ['LSTM', 'GRU', 'RNN'],\n",
    "    'BLEU Score': [0.2718067054614708, 5.359624986283916e-155, 2.8072921250592275e-232]\n",
    "}\n",
    "df_bleu = pd.DataFrame(data_bleu)\n",
    "\n",
    "# Plotting BLEU Scores Table\n",
    "fig, ax = plt.subplots(figsize=(8, 3))  # Set the size of the figure\n",
    "ax.axis('tight')\n",
    "ax.axis('off')\n",
    "ax.table(cellText=df_bleu.values, colLabels=df_bleu.columns, cellLoc='center', loc='center')\n",
    "plt.title('BLEU Scores for Models')\n",
    "plt.savefig('bleu_scores_table.png')\n",
    "plt.show()\n",
    "\n",
    "\n"
   ]
  },
  {
   "cell_type": "code",
   "execution_count": 150,
   "metadata": {},
   "outputs": [
    {
     "data": {
      "image/png": "[encoded data removed]",
      "text/plain": [
       "<Figure size 1008x216 with 1 Axes>"
      ]
     },
     "metadata": {},
     "output_type": "display_data"
    }
   ],
   "source": [
    "import pandas as pd\n",
    "import matplotlib.pyplot as plt\n",
    "\n",
    "# ROUGE Scores Data for LSTM, GRU, and RNN, split into separate columns for precision, recall, and F1-score\n",
    "data_rouge = {\n",
    "    'Model': ['LSTM', 'GRU', 'RNN'],\n",
    "    'ROUGE-1 Recall': [0.625, 0.250, 0.125],\n",
    "    'ROUGE-1 Precision': [0.833, 0.500, 0.400],\n",
    "    'ROUGE-1 F1-score': [0.714, 0.333, 0.190],\n",
    "    'ROUGE-2 Recall': [0.3125, 0.0, 0.0],\n",
    "    'ROUGE-2 Precision': [0.294, 0.0, 0.0],\n",
    "    'ROUGE-2 F1-score': [0.303, 0.0, 0.0],\n",
    "    'ROUGE-L Recall': [0.625, 0.250, 0.125],\n",
    "    'ROUGE-L Precision': [0.833, 0.500, 0.400],\n",
    "    'ROUGE-L F1-score': [0.714, 0.333, 0.190]\n",
    "}\n",
    "df_rouge = pd.DataFrame(data_rouge)\n",
    "\n",
    "# Plotting ROUGE Scores Table\n",
    "fig, ax = plt.subplots(figsize=(14, 3))  # Adjust size as needed\n",
    "ax.axis('tight')\n",
    "ax.axis('off')\n",
    "the_table = ax.table(cellText=df_rouge.values, colLabels=df_rouge.columns, cellLoc='center', loc='center')\n",
    "the_table.auto_set_font_size(False)\n",
    "the_table.set_fontsize(10)\n",
    "the_table.scale(1.2, 1.2)  # Adjust table scale for better spacing\n",
    "plt.title('ROUGE Scores for Models', fontsize=15)\n",
    "plt.savefig('rouge_scores_table_separated.png')\n",
    "plt.show()\n",
    "\n"
   ]
  },
  {
   "cell_type": "code",
   "execution_count": null,
   "metadata": {},
   "outputs": [],
   "source": []
  }
 ],
 "metadata": {
  "kernelspec": {
   "display_name": "Python 3",
   "language": "python",
   "name": "python3"
  },
  "language_info": {
   "codemirror_mode": {
    "name": "ipython",
    "version": 3
   },
   "file_extension": ".py",
   "mimetype": "text/x-python",
   "name": "python",
   "nbconvert_exporter": "python",
   "pygments_lexer": "ipython3",
   "version": "3.10.4"
  }
 },
 "nbformat": 4,
 "nbformat_minor": 2
}
